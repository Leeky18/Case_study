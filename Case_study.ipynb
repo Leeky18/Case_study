{
 "cells": [
  {
   "cell_type": "markdown",
   "id": "453ff7d9-9df8-4a75-98a4-eeef00fa35f2",
   "metadata": {
    "tags": []
   },
   "source": [
    "<h1 align=\"center\"> <b> Case study: Document Clustering for News Articles </b> </h1>"
   ]
  },
  {
   "cell_type": "markdown",
   "id": "5ca262cf-195f-418a-a44a-d9e247a33b23",
   "metadata": {},
   "source": [
    "### Table of Contents\n",
    "------\n",
    "* Introduction\n",
    "* Objective\n",
    "* Preparation and data loading\n",
    "* TF-IDF Word Tokenization\n",
    "* k-means\n",
    "* t-SNE\n",
    "* Conclusion and final thoughts"
   ]
  },
  {
   "cell_type": "markdown",
   "id": "8aebd640-8671-40f6-939d-acb45a769fb6",
   "metadata": {},
   "source": [
    "### Introduction\n",
    "------"
   ]
  },
  {
   "cell_type": "markdown",
   "id": "26228227-1678-4fc3-aca1-2a8db06f173e",
   "metadata": {},
   "source": [
    "In this case study, a collection of text documents should be clustered. Four CSV files are provided, all files contain only one column:\n",
    "\n",
    "* *original_texts.csv*: News articles in their initial original form. Provided only for the sake of context.\n",
    "* *preproc_texts.csv*: The preprocessed original texts from *original_texts.csv*: Only the first ten sentences from the original texts are displayed and punctuations are removed. This file should be used for clustering.\n",
    "* *stopwords.csv*: The stop words from the preprocessed texts were already identified and put into this list.\n",
    "* *labels.csv*: This list contains all corresponding correct labels (ground truth). This file should be used for reflecting the clustering only."
   ]
  },
  {
   "cell_type": "markdown",
   "id": "fdd53336-d737-4f30-aa7f-578088b679cd",
   "metadata": {},
   "source": [
    "### Objective\n",
    "------"
   ]
  },
  {
   "cell_type": "markdown",
   "id": "b8de1233-bcfd-47ca-a7f0-5a27fe2e286b",
   "metadata": {},
   "source": [
    "Using the news article from *preproc_texts.csv*, a clustering method/model should developed and deployed. The clusters are unlabeled yet, since the labels from *labels.csv* are for verify purposes only. Hence, a unsupervised clustering model is to be applied to the news articles."
   ]
  },
  {
   "cell_type": "markdown",
   "id": "24a39f6e-5881-4b4d-aad1-b9b4203e80da",
   "metadata": {},
   "source": [
    "### Preparation and data loading\n",
    "------"
   ]
  },
  {
   "cell_type": "markdown",
   "id": "ab241045-6e39-44ad-a7fb-7787dc02e4ce",
   "metadata": {},
   "source": [
    "Unizpping the provided data as the first step:"
   ]
  },
  {
   "cell_type": "code",
   "execution_count": 1,
   "id": "a3fe9a7b-9bf1-4e21-b504-f543eec62a28",
   "metadata": {},
   "outputs": [],
   "source": [
    "# Unzip provided data\n",
    "#!unzip \"data/Case Study Data Scientist - Dataset.zip\" -d data"
   ]
  },
  {
   "cell_type": "markdown",
   "id": "bdb539c5-8d04-4442-a3b0-713db11416ff",
   "metadata": {},
   "source": [
    "Import libraries:"
   ]
  },
  {
   "cell_type": "code",
   "execution_count": 2,
   "id": "c15a4ab6-3133-4619-ac82-5beff896af6a",
   "metadata": {},
   "outputs": [],
   "source": [
    "import pandas as pd\n",
    "import numpy as np\n",
    "import matplotlib.pyplot as plt\n",
    "\n",
    "import nltk\n",
    "from sklearn.feature_extraction.text import TfidfVectorizer\n",
    "from sklearn.cluster import KMeans\n",
    "from sklearn.metrics.cluster import homogeneity_score\n",
    "from sklearn.manifold import TSNE"
   ]
  },
  {
   "cell_type": "markdown",
   "id": "ca2c98fd-00b2-489a-8b40-cbeb632623e0",
   "metadata": {},
   "source": [
    "Load CSV files intro pandas DataFrames. In the case of *original_texts.csv* the delimiter is set to the tabulator character, instead of the comma as the default delimiter character."
   ]
  },
  {
   "cell_type": "code",
   "execution_count": 3,
   "id": "5209f44d-65b8-4f71-99b1-14afff925ce4",
   "metadata": {},
   "outputs": [],
   "source": [
    "# Load the data and store them into pandas DataFrames\n",
    "stop = pd.read_csv(\"data/stopwords.csv\", header=None)\n",
    "pre = pd.read_csv(\"data/preproc_texts.csv\", header=None)\n",
    "org = pd.read_csv(\"data/original_texts.csv\", header=None, delimiter=\"\\t\")\n",
    "labels = pd.read_csv(\"data/labels.csv\", header=None)"
   ]
  },
  {
   "cell_type": "markdown",
   "id": "447952de-2f05-4cef-89a8-1a5151785e10",
   "metadata": {},
   "source": [
    "There are 37 news articles. Article number 13 and number 15 don't contain proper news articles. Number 13 is an error message *\"Why did this happen Please make sure your browser supports JavaScript and cookies and that you are not blocking them from loading For more information you can review our Terms of Service and Cookie Policy\"* and number 15 is a browser search message: *\"What term do you want to search Search with google\"*. These messages also appear in the original dataset *original_texts.csv*. Since they are labeled with *pollution_national_parks* and *uk_inflation_data*, respectively, a correct clustering for these two observations are impossible. \n",
    "The method how to deal with that is described below at the model implementation of k-means."
   ]
  },
  {
   "cell_type": "markdown",
   "id": "69cd58ab-49aa-48bc-88d5-3ad2e1c167c4",
   "metadata": {},
   "source": [
    "As mentioned above, all four CSV file consist of only one column filled with strings. The DataFrames are converted to lists:"
   ]
  },
  {
   "cell_type": "code",
   "execution_count": 4,
   "id": "3f376cfd-25c1-4701-b83e-544a78466d23",
   "metadata": {},
   "outputs": [],
   "source": [
    "# Convert DataFrames to lists\n",
    "corpus = list(pre[0])\n",
    "stop_words_list = list(stop[0])\n",
    "labels_list = list(labels[0])"
   ]
  },
  {
   "cell_type": "markdown",
   "id": "d872ee1e-02a2-4906-b8d9-4667c5917ca7",
   "metadata": {},
   "source": [
    "### TF-IDF Word Tokenization\n",
    "------"
   ]
  },
  {
   "cell_type": "markdown",
   "id": "e209601f-635c-4a7a-9000-5575be3958df",
   "metadata": {},
   "source": [
    "[Term Frequency - Inverse Document Frequency (TF-IDF)](https://en.wikipedia.org/wiki/Tf%E2%80%93idf) word vectorization of all words in every news article. TF-IDF is used, because some words appear more often in the context of specific topics. For example the word \"climate\" is more frequently used in articles about climate change rather than in sports news. TF-IDF ensures that the vectors are higher with increasing term frequency, but also decreased by the frequency of cross-article occurences.\n",
    "\n",
    "The obtained vectors are used as features. Before that, the process of [stemming](https://en.wikipedia.org/wiki/Stemming) is implemented to aggregate all the words with the same word stem. Additionally, the stop words from the stop words list are removed."
   ]
  },
  {
   "cell_type": "code",
   "execution_count": 5,
   "id": "bfe26cfd-e9ee-4d43-a1f2-1c677cc49d4d",
   "metadata": {},
   "outputs": [],
   "source": [
    "# Initialize stemmer (without stop words)\n",
    "stemmer = nltk.PorterStemmer()\n",
    "analyzer = TfidfVectorizer(stop_words=stop_words_list).build_analyzer()\n",
    "\n",
    "def stemmed_words(doc):\n",
    "    return (stemmer.stem(w) for w in analyzer(doc))"
   ]
  },
  {
   "cell_type": "code",
   "execution_count": 6,
   "id": "960b1796-2973-46b0-b623-66712dce5562",
   "metadata": {},
   "outputs": [
    {
     "name": "stdout",
     "output_type": "stream",
     "text": [
      "(37, 1482)\n"
     ]
    }
   ],
   "source": [
    "# TF-IDF\n",
    "vectorizer = TfidfVectorizer(analyzer=stemmed_words)\n",
    "X = vectorizer.fit_transform(corpus)\n",
    "\n",
    "# Check the shape\n",
    "print(X.shape)"
   ]
  },
  {
   "cell_type": "markdown",
   "id": "4c622f22-d827-44b4-9b37-67b614c98133",
   "metadata": {},
   "source": [
    "After the the stemming, removial of stopwords and TF-IDF vectorization, the shape of the vectorized data is 37 x 1482, which means 37 observations (articles) and 1482 features (vectorized words). "
   ]
  },
  {
   "cell_type": "markdown",
   "id": "b1453cce-5ed2-4518-8b9b-b0008247d49e",
   "metadata": {},
   "source": [
    "### k-means\n",
    "------"
   ]
  },
  {
   "cell_type": "markdown",
   "id": "46dadbb3-9f0c-45b8-8060-4a0a9a86ca8a",
   "metadata": {},
   "source": [
    "The clustering algorithm [k-means](https://scikit-learn.org/stable/modules/generated/sklearn.cluster.KMeans.html) starts with random positions of *k* centers of clusters (centroids). Then, all observations were assigned to the nearest cluster. Ater that step, the mean observation position within one cluster is recalculated and the centroid moves to this very position. The process of assigning observations to nearest centroids starts over again. k-means is often used for clustering. The algorithm is quite simple and the identicifation of complex cluster patterns seems not required for this task. However, the number of clusters *k* should be declared beforehand. To find the best *k*, the elbow method can be used. The elbow method allows to visualize the within-cluster sum of squared estimate of errors (SSE) against *k*. The code of the elbow method and visualization is borrowed from [kaggle](https://www.kaggle.com/code/jbencina/clustering-documents-with-tfidf-and-kmeans/notebook) and modified/extended."
   ]
  },
  {
   "cell_type": "code",
   "execution_count": 7,
   "id": "b69df848-0050-4e14-9a14-d1a0942a0335",
   "metadata": {},
   "outputs": [],
   "source": [
    "# The calculation and visualization of all SSE values using k-means with different k values\n",
    "def find_optimal_clusters(data, max_k, fit_points=None, fit_extend=None):\n",
    "    iters = range(2, max_k+1)\n",
    "\n",
    "# Append the results into the dictionary \"sse\"\n",
    "    sse = []\n",
    "    for k in iters:\n",
    "        global model\n",
    "        model = KMeans(n_clusters = k, init = 'k-means++', max_iter = 300, n_init = 10, random_state = 0)\n",
    "        model.fit(data)\n",
    "        sse.append(model.inertia_)\n",
    "        if k == max_k:\n",
    "            print('Fit {} clusters'.format(k))\n",
    "\n",
    "# Plot the results\n",
    "    f, ax = plt.subplots(1, 1)\n",
    "    f.set_figwidth(15)\n",
    "    ax.plot(iters, sse, marker='o')\n",
    "    ax.set_xlabel('Cluster Centers')\n",
    "    ax.set_xticks(iters)\n",
    "    ax.set_xticklabels(iters)\n",
    "    ax.set_ylabel('SSE')\n",
    "    ax.set_title('SSE by Cluster Center Plot')\n",
    "    \n",
    "# Plot linear fit for first nine points\n",
    "    if fit_points!=None and fit_extend!=None: \n",
    "        m, b = np.polyfit(iters[:fit_points], sse[:fit_points], 1)\n",
    "        plt.plot(iters[:fit_extend], m*iters[:fit_extend] + b)\n",
    "        print(\"First \" + str(len(iters[:fit_points])) + \" points linear fitted\")\n",
    "# Save figure\n",
    "    f.savefig('data/Elbow_fit_{}.png'.format(fit_points), dpi=300, bbox_inches='tight') "
   ]
  },
  {
   "cell_type": "code",
   "execution_count": 8,
   "id": "893c7e7a-96d7-4045-b45e-76745be33eed",
   "metadata": {},
   "outputs": [
    {
     "name": "stdout",
     "output_type": "stream",
     "text": [
      "Fit 37 clusters\n"
     ]
    },
    {
     "data": {
      "image/png": "[encoded data removed]",
      "text/plain": [
       "<Figure size 1080x288 with 1 Axes>"
      ]
     },
     "metadata": {
      "needs_background": "light"
     },
     "output_type": "display_data"
    }
   ],
   "source": [
    "# Applied on our data    \n",
    "find_optimal_clusters(X, 37)"
   ]
  },
  {
   "cell_type": "markdown",
   "id": "58eaf366-0bba-4a5e-bcbb-ac06baa5d76e",
   "metadata": {},
   "source": [
    "Although in the SSE plot above a clear \"elbow\" is missing, a trend is discernible that divides the graph in two separate linear patterns. A linear fit is therefore manually added to k <= 9:  "
   ]
  },
  {
   "cell_type": "code",
   "execution_count": 9,
   "id": "2d200a82-5336-44e8-9744-079794a6f75e",
   "metadata": {},
   "outputs": [
    {
     "name": "stdout",
     "output_type": "stream",
     "text": [
      "Fit 37 clusters\n",
      "First 9 points linear fitted\n"
     ]
    },
    {
     "data": {
      "image/png": "[encoded data removed]",
      "text/plain": [
       "<Figure size 1080x288 with 1 Axes>"
      ]
     },
     "metadata": {
      "needs_background": "light"
     },
     "output_type": "display_data"
    }
   ],
   "source": [
    "find_optimal_clusters(X, 37, 9, 15)"
   ]
  },
  {
   "cell_type": "markdown",
   "id": "c9929d70-3d3a-4a6f-91a6-bd506a6fcaf8",
   "metadata": {},
   "source": [
    "Therefore, k = 9 clusters are firstly chosen for the k-means model. k = 10 also seems to be a reasonable choice, which will be chosen afterwards."
   ]
  },
  {
   "cell_type": "code",
   "execution_count": 10,
   "id": "97e16c3b-8c36-4b2d-a3a6-9963c5308440",
   "metadata": {},
   "outputs": [],
   "source": [
    "# k-means with k = 9\n",
    "clusters = KMeans(n_clusters = 9, init = 'k-means++', max_iter = 300, n_init = 10, random_state = 0).fit_predict(X)"
   ]
  },
  {
   "cell_type": "markdown",
   "id": "e8872cf7-2233-4ab2-b56a-e0c186d730e7",
   "metadata": {},
   "source": [
    "What are the top keywords in each cluster? To determine the top three words, the following function was borrowed from [kaggle](https://www.kaggle.com/code/jbencina/clustering-documents-with-tfidf-and-kmeans/notebook)."
   ]
  },
  {
   "cell_type": "code",
   "execution_count": 11,
   "id": "8749a6d9-a241-4d1c-ac7d-d678b870c762",
   "metadata": {},
   "outputs": [],
   "source": [
    "# Function to determine top keywords\n",
    "def get_top_keywords(data, clusters, labels, n_terms):\n",
    "    df = pd.DataFrame(data.todense()).groupby(clusters).mean()\n",
    "    global cluster_top_dict\n",
    "    cluster_top_dict = {}\n",
    "    for i,r in df.iterrows():\n",
    "        print('\\nCluster {}'.format(i))\n",
    "        top = ', '.join([labels[t] for t in np.argsort(r)[:-(n_terms+1):-1]])\n",
    "        cluster_top_dict[i] = top\n",
    "        print(top)"
   ]
  },
  {
   "cell_type": "markdown",
   "id": "45b64fb7-0194-45b0-8377-f65f4d5819c4",
   "metadata": {},
   "source": [
    "The top three (stemmed) keywords:"
   ]
  },
  {
   "cell_type": "code",
   "execution_count": 12,
   "id": "68bf85d0-5c7d-41bd-9c7d-43a6a090c4fd",
   "metadata": {},
   "outputs": [
    {
     "name": "stdout",
     "output_type": "stream",
     "text": [
      "\n",
      "Cluster 0\n",
      "climat, today, threat\n",
      "\n",
      "Cluster 1\n",
      "bed, space, studi\n",
      "\n",
      "Cluster 2\n",
      "food, guid, canada\n",
      "\n",
      "Cluster 3\n",
      "linux, kernel, window\n",
      "\n",
      "Cluster 4\n",
      "ozon, park, air\n",
      "\n",
      "Cluster 5\n",
      "cillian, team, robot\n",
      "\n",
      "Cluster 6\n",
      "price, inflat, rise\n",
      "\n",
      "Cluster 7\n",
      "search, cathedr, pari\n",
      "\n",
      "Cluster 8\n",
      "meteor, satellit, shower\n"
     ]
    }
   ],
   "source": [
    "get_top_keywords(X, clusters, vectorizer.get_feature_names_out(), 3)"
   ]
  },
  {
   "cell_type": "markdown",
   "id": "069b31cc-4cc5-41fe-91fc-02f95aa4ecdf",
   "metadata": {},
   "source": [
    "Now we have got a result. But how successful performed the model compated to the provided ground truth labels in *labels.csv*? The homogeneity score serves as a metric:"
   ]
  },
  {
   "cell_type": "code",
   "execution_count": 13,
   "id": "415601e5-5f2d-459d-9c2e-aeac80b60140",
   "metadata": {},
   "outputs": [
    {
     "data": {
      "text/plain": [
       "0.9383705592691584"
      ]
     },
     "execution_count": 13,
     "metadata": {},
     "output_type": "execute_result"
    }
   ],
   "source": [
    "# Homogeneity score\n",
    "homogeneity_score(labels_list, list(clusters))"
   ]
  },
  {
   "cell_type": "markdown",
   "id": "af8c8f47-9612-40c7-a6d5-bb2b37517835",
   "metadata": {},
   "source": [
    "The homogeneity score of ~0.94 is high, but not perfect. After verifying the results, news article 13 and 15 were not correctly assigned, because they contain error messages. So a 10th cluster is now used:"
   ]
  },
  {
   "cell_type": "code",
   "execution_count": 14,
   "id": "0c1c7800-a566-4a46-b030-0fc2e0455628",
   "metadata": {},
   "outputs": [],
   "source": [
    "# k-means with k = 10\n",
    "clusters = KMeans(n_clusters = 10, init = 'k-means++', max_iter = 300, n_init = 10, random_state = 0).fit_predict(X)"
   ]
  },
  {
   "cell_type": "markdown",
   "id": "27246121-7616-4f19-853b-995ca574b2e3",
   "metadata": {},
   "source": [
    "Check the top three keywords again:"
   ]
  },
  {
   "cell_type": "code",
   "execution_count": 15,
   "id": "5b099d21-c17e-4861-bca6-e8e5cfd78e50",
   "metadata": {},
   "outputs": [
    {
     "name": "stdout",
     "output_type": "stream",
     "text": [
      "\n",
      "Cluster 0\n",
      "cillian, team, robot\n",
      "\n",
      "Cluster 1\n",
      "ozon, park, air\n",
      "\n",
      "Cluster 2\n",
      "food, guid, canada\n",
      "\n",
      "Cluster 3\n",
      "bed, space, studi\n",
      "\n",
      "Cluster 4\n",
      "price, inflat, rise\n",
      "\n",
      "Cluster 5\n",
      "linux, kernel, window\n",
      "\n",
      "Cluster 6\n",
      "meteor, satellit, shower\n",
      "\n",
      "Cluster 7\n",
      "cathedr, pari, franc\n",
      "\n",
      "Cluster 8\n",
      "climat, today, threat\n",
      "\n",
      "Cluster 9\n",
      "search, cooki, term\n"
     ]
    }
   ],
   "source": [
    "get_top_keywords(X, clusters, vectorizer.get_feature_names_out(), 3)"
   ]
  },
  {
   "cell_type": "markdown",
   "id": "dfd25fc9-a7a7-49da-aba9-accc0054b696",
   "metadata": {},
   "source": [
    "To get a better overview of all the clusters:"
   ]
  },
  {
   "cell_type": "code",
   "execution_count": 16,
   "id": "c5bdf54a-c3c9-4e93-9478-858aec5344a0",
   "metadata": {},
   "outputs": [
    {
     "name": "stdout",
     "output_type": "stream",
     "text": [
      "News article 1 assigned to cluster: food, guid, canada\n",
      "News article 2 assigned to cluster: linux, kernel, window\n",
      "News article 3 assigned to cluster: cillian, team, robot\n",
      "News article 4 assigned to cluster: cillian, team, robot\n",
      "News article 5 assigned to cluster: meteor, satellit, shower\n",
      "News article 6 assigned to cluster: bed, space, studi\n",
      "News article 7 assigned to cluster: food, guid, canada\n",
      "News article 8 assigned to cluster: cathedr, pari, franc\n",
      "News article 9 assigned to cluster: ozon, park, air\n",
      "News article 10 assigned to cluster: ozon, park, air\n",
      "News article 11 assigned to cluster: climat, today, threat\n",
      "News article 12 assigned to cluster: climat, today, threat\n",
      "News article 13 assigned to cluster: search, cooki, term\n",
      "News article 14 assigned to cluster: meteor, satellit, shower\n",
      "News article 15 assigned to cluster: search, cooki, term\n",
      "News article 16 assigned to cluster: food, guid, canada\n",
      "News article 17 assigned to cluster: cillian, team, robot\n",
      "News article 18 assigned to cluster: price, inflat, rise\n",
      "News article 19 assigned to cluster: bed, space, studi\n",
      "News article 20 assigned to cluster: meteor, satellit, shower\n",
      "News article 21 assigned to cluster: cathedr, pari, franc\n",
      "News article 22 assigned to cluster: linux, kernel, window\n",
      "News article 23 assigned to cluster: climat, today, threat\n",
      "News article 24 assigned to cluster: meteor, satellit, shower\n",
      "News article 25 assigned to cluster: price, inflat, rise\n",
      "News article 26 assigned to cluster: climat, today, threat\n",
      "News article 27 assigned to cluster: bed, space, studi\n",
      "News article 28 assigned to cluster: ozon, park, air\n",
      "News article 29 assigned to cluster: ozon, park, air\n",
      "News article 30 assigned to cluster: cillian, team, robot\n",
      "News article 31 assigned to cluster: food, guid, canada\n",
      "News article 32 assigned to cluster: price, inflat, rise\n",
      "News article 33 assigned to cluster: cathedr, pari, franc\n",
      "News article 34 assigned to cluster: linux, kernel, window\n",
      "News article 35 assigned to cluster: linux, kernel, window\n",
      "News article 36 assigned to cluster: bed, space, studi\n",
      "News article 37 assigned to cluster: cathedr, pari, franc\n"
     ]
    }
   ],
   "source": [
    "for i,j in enumerate(clusters):\n",
    "    print(\"News article \" + str(i+1) + \" assigned to cluster: \" + cluster_top_dict[j])"
   ]
  },
  {
   "cell_type": "markdown",
   "id": "704bb6c1-1c6e-4200-a771-b35c343d74ea",
   "metadata": {},
   "source": [
    "Now, news article 13 and 15 are correctly assigned to the new cluster with the top three keywords *\"search, cooki, term\"*. Eventhough it is not the ground truth, it makes sense to cluster them in an extra cluster to show their erroneous contents."
   ]
  },
  {
   "cell_type": "markdown",
   "id": "3a466ac8-6ad7-4f40-98d4-e24d40805861",
   "metadata": {},
   "source": [
    "### t-SNE\n",
    "------"
   ]
  },
  {
   "cell_type": "markdown",
   "id": "c0bfd908-5b30-4a98-ab9c-92ff7b17f974",
   "metadata": {},
   "source": [
    "How does it look like? To visualize it, [t-SNE](https://scikit-learn.org/stable/modules/generated/sklearn.manifold.TSNE.html) is used to plot the clusters in two dimensions:"
   ]
  },
  {
   "cell_type": "code",
   "execution_count": 17,
   "id": "9e634d8a-1bdc-40b4-a805-6652125202ea",
   "metadata": {},
   "outputs": [
    {
     "data": {
      "image/png": "[encoded data removed]",
      "text/plain": [
       "<Figure size 576x432 with 1 Axes>"
      ]
     },
     "metadata": {
      "needs_background": "light"
     },
     "output_type": "display_data"
    }
   ],
   "source": [
    "# t-SNE with perplexity=10\n",
    "model = TSNE(n_components=2, random_state=0, perplexity=10, learning_rate=\"auto\", init=\"random\")\n",
    "np.set_printoptions(suppress=True)\n",
    "Y = model.fit_transform(X)\n",
    " \n",
    "# Plot the results of clustering\n",
    "fig, ax = plt.subplots(figsize=(8, 6))\n",
    "scatter = ax.scatter(Y[:,0], Y[:,1], c=clusters, cmap=\"jet_r\", s=200, alpha=.5)\n",
    "ax.legend(handles=scatter.legend_elements()[0], labels=list(cluster_top_dict.values()), title='News category clusters', loc='center left', bbox_to_anchor=(1, 0.5), fontsize=10)\n",
    "\n",
    "for j in range(len(clusters)):    \n",
    "    plt.annotate(clusters[j], xy=(Y[j][0], Y[j][1]), xytext=(0,0), textcoords='offset points', fontsize=14, ha='center', va='center')\n",
    "plt.title(\"t-SNE visualization for news article clustering\")\n",
    "plt.xlabel(\"t-SNE 1\")\n",
    "plt.ylabel(\"t-SNE 2\")\n",
    "\n",
    "plt.show();\n",
    "\n",
    "# Save figure\n",
    "fig.savefig('data/t-sne.png', dpi=300, bbox_inches='tight')"
   ]
  },
  {
   "cell_type": "markdown",
   "id": "222e9bb8-862b-41d2-b626-2e1c40c3fb50",
   "metadata": {},
   "source": [
    "### Conclusion and final thoughts\n",
    "------"
   ]
  },
  {
   "cell_type": "markdown",
   "id": "e9282f89-7e76-47a8-bb7b-ced46d98af3f",
   "metadata": {},
   "source": [
    "The approach using TF-IDF vectorization and k-means could successfully cluster all news articles correctly. The content of two news articles were not properly copied into the initial original file and were clustered into a new own cluster. The breaking point of this approach is the rather ambiguous elbow to determine the number of clusters *k*. To enhance this method, I would love to get feedback and some tips to improve the model.\n",
    "For future works, more news articles can be loaded into the document corpus in order to test the model with larger datasets."
   ]
  }
 ],
 "metadata": {
  "kernelspec": {
   "display_name": "Python 3 (ipykernel)",
   "language": "python",
   "name": "python3"
  },
  "language_info": {
   "codemirror_mode": {
    "name": "ipython",
    "version": 3
   },
   "file_extension": ".py",
   "mimetype": "text/x-python",
   "name": "python",
   "nbconvert_exporter": "python",
   "pygments_lexer": "ipython3",
   "version": "3.9.4"
  }
 },
 "nbformat": 4,
 "nbformat_minor": 5
}
